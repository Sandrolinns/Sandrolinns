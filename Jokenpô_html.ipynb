{
  "nbformat": 4,
  "nbformat_minor": 0,
  "metadata": {
    "colab": {
      "private_outputs": true,
      "provenance": [],
      "authorship_tag": "ABX9TyPrD0NIRGsUQ2b9zdy4rGEF",
      "include_colab_link": true
    },
    "kernelspec": {
      "name": "python3",
      "display_name": "Python 3"
    },
    "language_info": {
      "name": "python"
    }
  },
  "cells": [
    {
      "cell_type": "markdown",
      "metadata": {
        "id": "view-in-github",
        "colab_type": "text"
      },
      "source": [
        "<a href=\"https://colab.research.google.com/github/Sandrolinns/Sandrolinns/blob/main/Jokenp%C3%B4_html.ipynb\" target=\"_parent\"><img src=\"https://colab.research.google.com/assets/colab-badge.svg\" alt=\"Open In Colab\"/></a>"
      ]
    },
    {
      "cell_type": "markdown",
      "source": [
        "Aluno: Sandro Pereira Lins\n",
        "\n",
        "Disciplina: Desenvolvimento em Javascript\n",
        "\n",
        "Matrícula - 2024109819\n",
        "\n",
        "Unidade:3 - Programação Orientada a Eventos\n",
        "\n",
        "Aula:4 - Eventos em Nível de Página"
      ],
      "metadata": {
        "id": "8lx_bslhDddF"
      }
    },
    {
      "cell_type": "code",
      "source": [
        "%%html\n",
        "\n",
        "<!DOCTYPE html>\n",
        "<html lang=\"pt-BR\">\n",
        "<head>\n",
        "    <meta charset=\"UTF-8\">\n",
        "    <meta name=\"viewport\" content=\"width=device-width, initial-scale=1.0\">\n",
        "    <title>Jokenpô</title>\n",
        "    <style>\n",
        "        body {\n",
        "            font-family: Arial, sans-serif;\n",
        "            display: flex;\n",
        "            justify-content: center;\n",
        "            align-items: center;\n",
        "            height: 100vh;\n",
        "            background-color: #f0f0f0;\n",
        "            margin: 0;\n",
        "        }\n",
        "        .container {\n",
        "            text-align: center;\n",
        "            background-color: #fff;\n",
        "            padding: 20px;\n",
        "            box-shadow: 0 4px 8px rgba(0, 0, 0, 0.2);\n",
        "            border-radius: 10px;\n",
        "        }\n",
        "        .choice {\n",
        "            margin: 10px;\n",
        "            padding: 10px 20px;\n",
        "            font-size: 18px;\n",
        "            cursor: pointer;\n",
        "            transition: background-color 0.3s, transform 0.3s;\n",
        "        }\n",
        "        .choice:hover {\n",
        "            background-color: #ddd;\n",
        "            transform: scale(1.1);\n",
        "        }\n",
        "        .result {\n",
        "            margin-top: 20px;\n",
        "            font-size: 24px;\n",
        "        }\n",
        "        .reset {\n",
        "            margin-top: 20px;\n",
        "            padding: 10px 20px;\n",
        "            font-size: 18px;\n",
        "            cursor: pointer;\n",
        "            background-color: #ff6347;\n",
        "            color: #fff;\n",
        "            border: none;\n",
        "            border-radius: 5px;\n",
        "            transition: background-color 0.3s, transform 0.3s;\n",
        "        }\n",
        "        .reset:hover {\n",
        "            background-color: #ff4500;\n",
        "            transform: scale(1.1);\n",
        "        }\n",
        "    </style>\n",
        "</head>\n",
        "<body>\n",
        "    <div class=\"container\">\n",
        "        <h1>Jogo de Jokenpô</h1>\n",
        "        <div class=\"choices\">\n",
        "            <button id=\"rock\" class=\"choice\">Pedra</button>\n",
        "            <button id=\"paper\" class=\"choice\">Papel</button>\n",
        "            <button id=\"scissors\" class=\"choice\">Tesoura</button>\n",
        "        </div>\n",
        "        <div class=\"result\">\n",
        "            <p id=\"result-text\"></p>\n",
        "        </div>\n",
        "        <button id=\"reset\" class=\"reset\">Reiniciar</button>\n",
        "    </div>\n",
        "    <script>\n",
        "        const choices = [\"rock\", \"paper\", \"scissors\"];\n",
        "        const buttons = document.querySelectorAll(\".choice\");\n",
        "        const resultText = document.getElementById(\"result-text\");\n",
        "        const resetButton = document.getElementById(\"reset\");\n",
        "\n",
        "        buttons.forEach(button => {\n",
        "            button.addEventListener(\"click\", () => {\n",
        "                const userChoice = button.id;\n",
        "                const computerChoice = choices[Math.floor(Math.random() * choices.length)];\n",
        "                const result = getResult(userChoice, computerChoice);\n",
        "                displayResult(userChoice, computerChoice, result);\n",
        "            });\n",
        "        });\n",
        "\n",
        "        resetButton.addEventListener(\"click\", () => {\n",
        "            resultText.innerHTML = \"\";\n",
        "        });\n",
        "\n",
        "        function getResult(user, computer) {\n",
        "            if (user === computer) return \"Empate!\";\n",
        "            if ((user === \"rock\" && computer === \"scissors\") ||\n",
        "                (user === \"paper\" && computer === \"rock\") ||\n",
        "                (user === \"scissors\" && computer === \"paper\")) {\n",
        "                return \"Você ganhou!\";\n",
        "            }\n",
        "            return \"Você perdeu!\";\n",
        "        }\n",
        "\n",
        "        function displayResult(user, computer, result) {\n",
        "            resultText.innerHTML = `\n",
        "                Você escolheu: ${user} <br>\n",
        "                O computador escolheu: ${computer} <br>\n",
        "                ${result}\n",
        "            `;\n",
        "        }\n",
        "    </script>\n",
        "</body>\n",
        "</html>\n"
      ],
      "metadata": {
        "id": "wmwYBTXk_oDd"
      },
      "execution_count": null,
      "outputs": []
    },
    {
      "cell_type": "markdown",
      "source": [],
      "metadata": {
        "id": "7b3LL7U3DTgx"
      }
    },
    {
      "cell_type": "markdown",
      "source": [],
      "metadata": {
        "id": "ql2vk3i_9LWm"
      }
    }
  ]
}